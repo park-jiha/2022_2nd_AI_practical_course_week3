{
  "nbformat": 4,
  "nbformat_minor": 0,
  "metadata": {
    "colab": {
      "name": "Class_Numpy.ipynb",
      "provenance": [],
      "collapsed_sections": []
    },
    "kernelspec": {
      "name": "python3",
      "display_name": "Python 3"
    },
    "language_info": {
      "name": "python"
    }
  },
  "cells": [
    {
      "cell_type": "markdown",
      "source": [
        "# Numpy"
      ],
      "metadata": {
        "id": "JvUx73mhSnto"
      }
    },
    {
      "cell_type": "markdown",
      "source": [
        "### Numpy 시작"
      ],
      "metadata": {
        "id": "w1l4_eMnSgwx"
      }
    },
    {
      "cell_type": "code",
      "execution_count": 127,
      "metadata": {
        "id": "80rHx1E5SEZg"
      },
      "outputs": [],
      "source": [
        "import numpy as np"
      ]
    },
    {
      "cell_type": "code",
      "source": [
        "print(np.__version__)"
      ],
      "metadata": {
        "id": "iVvIzZZlSgXz",
        "colab": {
          "base_uri": "https://localhost:8080/"
        },
        "outputId": "d9207a3d-60b0-45e3-82a6-ca425e27e9ca"
      },
      "execution_count": 128,
      "outputs": [
        {
          "output_type": "stream",
          "name": "stdout",
          "text": [
            "1.21.6\n"
          ]
        }
      ]
    },
    {
      "cell_type": "markdown",
      "source": [
        "### Numpy Array 생성"
      ],
      "metadata": {
        "id": "hWRHtIBeS3zv"
      }
    },
    {
      "cell_type": "code",
      "source": [
        "a = np.array([1,2,3,4])\n",
        "print(a)"
      ],
      "metadata": {
        "id": "w1ogzHocS3a9",
        "colab": {
          "base_uri": "https://localhost:8080/"
        },
        "outputId": "51816a9c-7c34-4be6-ade9-30211c08d930"
      },
      "execution_count": 129,
      "outputs": [
        {
          "output_type": "stream",
          "name": "stdout",
          "text": [
            "[1 2 3 4]\n"
          ]
        }
      ]
    },
    {
      "cell_type": "code",
      "source": [
        "b = np.array([5,6,7,8])\n",
        "print(b)"
      ],
      "metadata": {
        "id": "u4uQXx79TQB7",
        "colab": {
          "base_uri": "https://localhost:8080/"
        },
        "outputId": "39493153-4677-433f-fff1-08733d45701b"
      },
      "execution_count": 130,
      "outputs": [
        {
          "output_type": "stream",
          "name": "stdout",
          "text": [
            "[5 6 7 8]\n"
          ]
        }
      ]
    },
    {
      "cell_type": "markdown",
      "source": [
        "### List는 안되고 Numpy는 되는 예시"
      ],
      "metadata": {
        "id": "TyV21HSPTgXK"
      }
    },
    {
      "cell_type": "code",
      "source": [
        "# 일반적 list 생성\n",
        "list1 = [1,3,5]\n",
        "list2 = [1,2,3]\n",
        "\n",
        "# Numpy 배열 생성\n",
        "np1 = np.array([1,3,5])\n",
        "np2 = np.array([1,2,3])\n",
        "\n",
        "print(\"list1 :\", list1, \"/ list2 :\", list2)\n",
        "print(\"np1 :\", np1, \"/ np2 :\", np2)"
      ],
      "metadata": {
        "id": "-eHO3QA0TWOH",
        "colab": {
          "base_uri": "https://localhost:8080/"
        },
        "outputId": "b6a96dd9-4125-453f-f18a-815ae1018dd0"
      },
      "execution_count": 131,
      "outputs": [
        {
          "output_type": "stream",
          "name": "stdout",
          "text": [
            "list1 : [1, 3, 5] / list2 : [1, 2, 3]\n",
            "np1 : [1 3 5] / np2 : [1 2 3]\n"
          ]
        }
      ]
    },
    {
      "cell_type": "code",
      "source": [
        "# 1\n",
        "print(list1*list2)"
      ],
      "metadata": {
        "id": "m6bDi3dJUOgi"
      },
      "execution_count": null,
      "outputs": []
    },
    {
      "cell_type": "code",
      "source": [
        "# 2\n",
        "print(np1*np2)"
      ],
      "metadata": {
        "id": "3HCx_ry_UjQI",
        "colab": {
          "base_uri": "https://localhost:8080/"
        },
        "outputId": "7e737b47-1065-4ea6-9522-097458679da7"
      },
      "execution_count": 133,
      "outputs": [
        {
          "output_type": "stream",
          "name": "stdout",
          "text": [
            "[ 1  6 15]\n"
          ]
        }
      ]
    },
    {
      "cell_type": "markdown",
      "source": [
        "### 타입에 따른 array 생성"
      ],
      "metadata": {
        "id": "XBvWSJZIoRVT"
      }
    },
    {
      "cell_type": "code",
      "source": [
        "a = np.array([1,2,3], dtype='int32')\n",
        "print(a)"
      ],
      "metadata": {
        "id": "SNntOqmYUpME",
        "colab": {
          "base_uri": "https://localhost:8080/"
        },
        "outputId": "835a478e-359d-4a87-9654-090516ac8253"
      },
      "execution_count": 134,
      "outputs": [
        {
          "output_type": "stream",
          "name": "stdout",
          "text": [
            "[1 2 3]\n"
          ]
        }
      ]
    },
    {
      "cell_type": "code",
      "source": [
        "b = np.array([1,2,3], dtype='float32')\n",
        "print(b)"
      ],
      "metadata": {
        "colab": {
          "base_uri": "https://localhost:8080/"
        },
        "id": "wZgfEBjGwhbE",
        "outputId": "80ef9b54-ee11-421c-881b-67f00f6182bd"
      },
      "execution_count": 135,
      "outputs": [
        {
          "output_type": "stream",
          "name": "stdout",
          "text": [
            "[1. 2. 3.]\n"
          ]
        }
      ]
    },
    {
      "cell_type": "code",
      "source": [
        "c = np.array([[9.0,8.0,7.0],[6.0,5.0,4.0]])\n",
        "print(c)"
      ],
      "metadata": {
        "colab": {
          "base_uri": "https://localhost:8080/"
        },
        "id": "hLiDBi_dwymK",
        "outputId": "a9b8c0ab-424f-4291-f07f-2e6c86f26bff"
      },
      "execution_count": 136,
      "outputs": [
        {
          "output_type": "stream",
          "name": "stdout",
          "text": [
            "[[9. 8. 7.]\n",
            " [6. 5. 4.]]\n"
          ]
        }
      ]
    },
    {
      "cell_type": "code",
      "source": [
        "d = np.array([['a',8,7],[6,5.0,4.0]])\n",
        "print(d)"
      ],
      "metadata": {
        "colab": {
          "base_uri": "https://localhost:8080/"
        },
        "id": "Yhhv4PcAw1k3",
        "outputId": "eac09992-091a-42dc-a2c6-91739eaaeb47"
      },
      "execution_count": 137,
      "outputs": [
        {
          "output_type": "stream",
          "name": "stdout",
          "text": [
            "[['a' '8' '7']\n",
            " ['6' '5.0' '4.0']]\n"
          ]
        }
      ]
    },
    {
      "cell_type": "markdown",
      "source": [
        "### 기초"
      ],
      "metadata": {
        "id": "eooQH_zwxN08"
      }
    },
    {
      "cell_type": "code",
      "source": [
        "a = np.array([1,2,3], dtype='int32')\n",
        "b = np.array([[9.0,8.0,7.0],[6.0,5.0,4.0]])\n",
        "print('a =', a)\n",
        "print('b =', b)"
      ],
      "metadata": {
        "colab": {
          "base_uri": "https://localhost:8080/"
        },
        "id": "R6VJj7XCw5UB",
        "outputId": "90151f25-5a22-4123-dcea-518e53ab266c"
      },
      "execution_count": 138,
      "outputs": [
        {
          "output_type": "stream",
          "name": "stdout",
          "text": [
            "a = [1 2 3]\n",
            "b = [[9. 8. 7.]\n",
            " [6. 5. 4.]]\n"
          ]
        }
      ]
    },
    {
      "cell_type": "code",
      "source": [
        "# Get Dimension\n",
        "a.ndim"
      ],
      "metadata": {
        "colab": {
          "base_uri": "https://localhost:8080/"
        },
        "id": "8HYKmi94xVvQ",
        "outputId": "ad57b568-6798-4087-99f6-23939ecebddc"
      },
      "execution_count": 139,
      "outputs": [
        {
          "output_type": "execute_result",
          "data": {
            "text/plain": [
              "1"
            ]
          },
          "metadata": {},
          "execution_count": 139
        }
      ]
    },
    {
      "cell_type": "code",
      "source": [
        "# Get Shape\n",
        "b.shape"
      ],
      "metadata": {
        "colab": {
          "base_uri": "https://localhost:8080/"
        },
        "id": "s9yu2ZGXxX1Q",
        "outputId": "20fbc4d8-c648-4711-fc49-2feb312413ac"
      },
      "execution_count": 140,
      "outputs": [
        {
          "output_type": "execute_result",
          "data": {
            "text/plain": [
              "(2, 3)"
            ]
          },
          "metadata": {},
          "execution_count": 140
        }
      ]
    },
    {
      "cell_type": "code",
      "source": [
        "# Get Type\n",
        "a.dtype"
      ],
      "metadata": {
        "colab": {
          "base_uri": "https://localhost:8080/"
        },
        "id": "uzTOwAwnxbR4",
        "outputId": "3d0fa6cf-f8c2-4be6-9870-3caff9b64196"
      },
      "execution_count": 141,
      "outputs": [
        {
          "output_type": "execute_result",
          "data": {
            "text/plain": [
              "dtype('int32')"
            ]
          },
          "metadata": {},
          "execution_count": 141
        }
      ]
    },
    {
      "cell_type": "code",
      "source": [
        "# 한 element의 Size (바이트)\n",
        "# 8bit = 1byte\n",
        "print(a.itemsize, 'byte')"
      ],
      "metadata": {
        "colab": {
          "base_uri": "https://localhost:8080/"
        },
        "id": "Hx9b_lOHxcS-",
        "outputId": "0bfdbbd0-2288-44ad-8fe0-d8a2a31dfa3d"
      },
      "execution_count": 143,
      "outputs": [
        {
          "output_type": "stream",
          "name": "stdout",
          "text": [
            "4 byte\n"
          ]
        }
      ]
    },
    {
      "cell_type": "code",
      "source": [
        "# Get total size (바이트)\n",
        "print('총', a.nbytes, 'byte')"
      ],
      "metadata": {
        "colab": {
          "base_uri": "https://localhost:8080/"
        },
        "id": "YjjQ-r2Ix1ti",
        "outputId": "8ddc7017-d265-4021-8dbf-1e67ace2ad52"
      },
      "execution_count": 144,
      "outputs": [
        {
          "output_type": "stream",
          "name": "stdout",
          "text": [
            "총 12 byte\n"
          ]
        }
      ]
    },
    {
      "cell_type": "code",
      "source": [
        "# Get number of elements (element 갯수)\n",
        "a.size"
      ],
      "metadata": {
        "colab": {
          "base_uri": "https://localhost:8080/"
        },
        "id": "Oj_RZBxdyVQa",
        "outputId": "a537ae26-243c-49d5-f89e-a1e47b53a5b5"
      },
      "execution_count": 145,
      "outputs": [
        {
          "output_type": "execute_result",
          "data": {
            "text/plain": [
              "3"
            ]
          },
          "metadata": {},
          "execution_count": 145
        }
      ]
    },
    {
      "cell_type": "markdown",
      "source": [
        "### Array 다루기"
      ],
      "metadata": {
        "id": "xhQlSE2rzruy"
      }
    },
    {
      "cell_type": "code",
      "source": [
        "a = np.array([[1,2,3,4,5,6,7],[8,9,10,11,12,13,14]])\n",
        "print(a)"
      ],
      "metadata": {
        "colab": {
          "base_uri": "https://localhost:8080/"
        },
        "id": "lWethrN3zxRv",
        "outputId": "b66e06ea-eaff-47dd-a0a8-7da41e3897a3"
      },
      "execution_count": 146,
      "outputs": [
        {
          "output_type": "stream",
          "name": "stdout",
          "text": [
            "[[ 1  2  3  4  5  6  7]\n",
            " [ 8  9 10 11 12 13 14]]\n"
          ]
        }
      ]
    },
    {
      "cell_type": "code",
      "source": [
        "# 특정 값 찾기\n",
        "a[1, 5]"
      ],
      "metadata": {
        "colab": {
          "base_uri": "https://localhost:8080/"
        },
        "id": "7or1HuaZ0CXF",
        "outputId": "c6e67013-1382-4d47-8e6e-aa6af548a7b9"
      },
      "execution_count": 147,
      "outputs": [
        {
          "output_type": "execute_result",
          "data": {
            "text/plain": [
              "13"
            ]
          },
          "metadata": {},
          "execution_count": 147
        }
      ]
    },
    {
      "cell_type": "code",
      "source": [
        "# row 추출\n",
        "# : 은 범위를 지정하기 위해 사용(~에서 ~'앞'까지), 아무것도 안적으면 그 방향으로 끝까지 간다고 생각하면 된다.\n",
        "a[0, :]"
      ],
      "metadata": {
        "colab": {
          "base_uri": "https://localhost:8080/"
        },
        "id": "nI2SakrW06m9",
        "outputId": "fc389a87-bed8-4260-d11b-aacd0e6e46ec"
      },
      "execution_count": 149,
      "outputs": [
        {
          "output_type": "execute_result",
          "data": {
            "text/plain": [
              "array([1, 2, 3, 4, 5, 6, 7])"
            ]
          },
          "metadata": {},
          "execution_count": 149
        }
      ]
    },
    {
      "cell_type": "code",
      "source": [
        "# 범위 지정\n",
        "a[0, :4]"
      ],
      "metadata": {
        "colab": {
          "base_uri": "https://localhost:8080/"
        },
        "id": "gOjCg6eY1Fh1",
        "outputId": "53f8a17f-7080-4dc6-d83b-badace308c37"
      },
      "execution_count": 150,
      "outputs": [
        {
          "output_type": "execute_result",
          "data": {
            "text/plain": [
              "array([1, 2, 3, 4])"
            ]
          },
          "metadata": {},
          "execution_count": 150
        }
      ]
    },
    {
      "cell_type": "code",
      "source": [
        "# - 가 붙어있으면 '뒤에서 n번째 요소 바로 앞까지' 라고 생각하자\n",
        "a[0, :-2]"
      ],
      "metadata": {
        "colab": {
          "base_uri": "https://localhost:8080/"
        },
        "id": "79-ZkLbD1b_9",
        "outputId": "a1f76941-10b3-4d9d-96a9-5fd5555e52eb"
      },
      "execution_count": 151,
      "outputs": [
        {
          "output_type": "execute_result",
          "data": {
            "text/plain": [
              "array([1, 2, 3, 4, 5])"
            ]
          },
          "metadata": {},
          "execution_count": 151
        }
      ]
    },
    {
      "cell_type": "code",
      "source": [
        "# 일정 간격으로 항목 뽑아내기 -> [startindex:endindex:stepsize]\n",
        "a[0, 1::2]"
      ],
      "metadata": {
        "colab": {
          "base_uri": "https://localhost:8080/"
        },
        "id": "oScL2Buc1y60",
        "outputId": "018c1f71-d789-484e-d622-7ca68b66740d"
      },
      "execution_count": 152,
      "outputs": [
        {
          "output_type": "execute_result",
          "data": {
            "text/plain": [
              "array([2, 4, 6])"
            ]
          },
          "metadata": {},
          "execution_count": 152
        }
      ]
    },
    {
      "cell_type": "code",
      "source": [
        "# 특정값 바꾸기\n",
        "a[1,5] = 20\n",
        "\n",
        "print(a)"
      ],
      "metadata": {
        "colab": {
          "base_uri": "https://localhost:8080/"
        },
        "id": "D4CCMG7b2N-D",
        "outputId": "7f0e5a97-fcad-46ce-a962-de660f1a3344"
      },
      "execution_count": 153,
      "outputs": [
        {
          "output_type": "stream",
          "name": "stdout",
          "text": [
            "[[ 1  2  3  4  5  6  7]\n",
            " [ 8  9 10 11 12 20 14]]\n"
          ]
        }
      ]
    },
    {
      "cell_type": "code",
      "source": [
        "a[:,2] = [77,88]\n",
        "print(a)"
      ],
      "metadata": {
        "colab": {
          "base_uri": "https://localhost:8080/"
        },
        "id": "zt-RjOA96gkN",
        "outputId": "71193940-1374-4692-9eda-462e5948bcba"
      },
      "execution_count": 154,
      "outputs": [
        {
          "output_type": "stream",
          "name": "stdout",
          "text": [
            "[[ 1  2 77  4  5  6  7]\n",
            " [ 8  9 88 11 12 20 14]]\n"
          ]
        }
      ]
    },
    {
      "cell_type": "code",
      "source": [
        "# 3D array 생성\n",
        "b = np.array([[[1,2],[3,4]],[[5,6],[7,8]]])\n",
        "print(b)"
      ],
      "metadata": {
        "colab": {
          "base_uri": "https://localhost:8080/"
        },
        "id": "SUSEoqNh75-x",
        "outputId": "eb337b08-2402-4808-c881-24457958e170"
      },
      "execution_count": 156,
      "outputs": [
        {
          "output_type": "stream",
          "name": "stdout",
          "text": [
            "[[[1 2]\n",
            "  [3 4]]\n",
            "\n",
            " [[5 6]\n",
            "  [7 8]]]\n"
          ]
        }
      ]
    },
    {
      "cell_type": "code",
      "source": [
        "# 특정값 추출\n",
        "b[0,1,1]"
      ],
      "metadata": {
        "colab": {
          "base_uri": "https://localhost:8080/"
        },
        "id": "X83QBNa88G_x",
        "outputId": "a4b9e7fe-76a4-4593-9a14-e0b30c3e5110"
      },
      "execution_count": 157,
      "outputs": [
        {
          "output_type": "execute_result",
          "data": {
            "text/plain": [
              "4"
            ]
          },
          "metadata": {},
          "execution_count": 157
        }
      ]
    },
    {
      "cell_type": "code",
      "source": [
        "# 특정값 바꾸기\n",
        "b[:,1,:] = [[777,777],[888,888]]\n",
        "print(b)"
      ],
      "metadata": {
        "colab": {
          "base_uri": "https://localhost:8080/"
        },
        "id": "ZYfdv8N88Msn",
        "outputId": "946ebc04-890a-438f-bfeb-5e9518b59b51"
      },
      "execution_count": 158,
      "outputs": [
        {
          "output_type": "stream",
          "name": "stdout",
          "text": [
            "[[[  1   2]\n",
            "  [777 777]]\n",
            "\n",
            " [[  5   6]\n",
            "  [888 888]]]\n"
          ]
        }
      ]
    },
    {
      "cell_type": "markdown",
      "source": [
        "### 여러가지 형태의 array"
      ],
      "metadata": {
        "id": "YUtkc26N8j4z"
      }
    },
    {
      "cell_type": "code",
      "source": [
        "# 모든 값이 0인 배열 생성\n",
        "np.zeros((2,3))"
      ],
      "metadata": {
        "colab": {
          "base_uri": "https://localhost:8080/"
        },
        "id": "nTIyPC0D8sSm",
        "outputId": "c4c5e9f4-fa1e-4017-da47-6a529c0fc235"
      },
      "execution_count": 159,
      "outputs": [
        {
          "output_type": "execute_result",
          "data": {
            "text/plain": [
              "array([[0., 0., 0.],\n",
              "       [0., 0., 0.]])"
            ]
          },
          "metadata": {},
          "execution_count": 159
        }
      ]
    },
    {
      "cell_type": "code",
      "source": [
        "# 모든 값이 1인 배열 생성\n",
        "np.ones((3,2,2), dtype = 'int32')"
      ],
      "metadata": {
        "colab": {
          "base_uri": "https://localhost:8080/"
        },
        "id": "9xqah9RM9JNx",
        "outputId": "04baba15-4726-4693-b6a8-7e90c804571e"
      },
      "execution_count": 160,
      "outputs": [
        {
          "output_type": "execute_result",
          "data": {
            "text/plain": [
              "array([[[1, 1],\n",
              "        [1, 1]],\n",
              "\n",
              "       [[1, 1],\n",
              "        [1, 1]],\n",
              "\n",
              "       [[1, 1],\n",
              "        [1, 1]]], dtype=int32)"
            ]
          },
          "metadata": {},
          "execution_count": 160
        }
      ]
    },
    {
      "cell_type": "code",
      "source": [
        "# 원하는 숫자로 채우기\n",
        "np.full((4,3), 7)"
      ],
      "metadata": {
        "colab": {
          "base_uri": "https://localhost:8080/"
        },
        "id": "8hz7nlfT9NJ-",
        "outputId": "5c29dadd-738c-4a0a-8b1a-7530c70b2dac"
      },
      "execution_count": 161,
      "outputs": [
        {
          "output_type": "execute_result",
          "data": {
            "text/plain": [
              "array([[7, 7, 7],\n",
              "       [7, 7, 7],\n",
              "       [7, 7, 7],\n",
              "       [7, 7, 7]])"
            ]
          },
          "metadata": {},
          "execution_count": 161
        }
      ]
    },
    {
      "cell_type": "code",
      "source": [
        "# 기존 배열에서 특정 값으로 모두 채우기\n",
        "a = np.array([[1,2,3,4,5,6,7],[8,9,10,11,12,13,14]])\n",
        "np.full_like(a, 3)"
      ],
      "metadata": {
        "colab": {
          "base_uri": "https://localhost:8080/"
        },
        "id": "IhcPC5tO9hc9",
        "outputId": "f6b92ca6-a642-4cc5-f7dc-1b47d26d5368"
      },
      "execution_count": 162,
      "outputs": [
        {
          "output_type": "execute_result",
          "data": {
            "text/plain": [
              "array([[3, 3, 3, 3, 3, 3, 3],\n",
              "       [3, 3, 3, 3, 3, 3, 3]])"
            ]
          },
          "metadata": {},
          "execution_count": 162
        }
      ]
    },
    {
      "cell_type": "code",
      "source": [
        "# 랜덤 값(0~1의 균일 분포)으로 채워진 배열 생성\n",
        "np.random.rand(4,2)"
      ],
      "metadata": {
        "colab": {
          "base_uri": "https://localhost:8080/"
        },
        "id": "n7Egz4-V9sf6",
        "outputId": "a5722ade-06ed-40a0-9c47-3e76f900511c"
      },
      "execution_count": 164,
      "outputs": [
        {
          "output_type": "execute_result",
          "data": {
            "text/plain": [
              "array([[0.73113467, 0.03002059],\n",
              "       [0.38744961, 0.40274966],\n",
              "       [0.56105516, 0.85199346],\n",
              "       [0.89904099, 0.67021016]])"
            ]
          },
          "metadata": {},
          "execution_count": 164
        }
      ]
    },
    {
      "cell_type": "code",
      "source": [
        "# 랜덤 int 값으로 채우기(~부터 ~'앞'까지)\n",
        "np.random.randint(-3,10, size=(3,4))"
      ],
      "metadata": {
        "colab": {
          "base_uri": "https://localhost:8080/"
        },
        "id": "nn0XAJb59xgr",
        "outputId": "455d52e3-117e-4b10-97dc-1bd15a017235"
      },
      "execution_count": 165,
      "outputs": [
        {
          "output_type": "execute_result",
          "data": {
            "text/plain": [
              "array([[ 0, -1,  0,  9],\n",
              "       [ 7,  9,  0,  0],\n",
              "       [ 2,  2,  4,  6]])"
            ]
          },
          "metadata": {},
          "execution_count": 165
        }
      ]
    },
    {
      "cell_type": "code",
      "source": [
        "# N x N 단위행렬(항등행렬) 생성\n",
        "np.identity(4, dtype = 'int32')"
      ],
      "metadata": {
        "colab": {
          "base_uri": "https://localhost:8080/"
        },
        "id": "f56AWPJt93SH",
        "outputId": "88cf0655-4cf9-41c8-c1fd-af47659c1d14"
      },
      "execution_count": 168,
      "outputs": [
        {
          "output_type": "execute_result",
          "data": {
            "text/plain": [
              "array([[1, 0, 0, 0],\n",
              "       [0, 1, 0, 0],\n",
              "       [0, 0, 1, 0],\n",
              "       [0, 0, 0, 1]], dtype=int32)"
            ]
          },
          "metadata": {},
          "execution_count": 168
        }
      ]
    },
    {
      "cell_type": "code",
      "source": [
        "# array 반복\n",
        "arr = np.array([[1,2,3]])\n",
        "r1 = np.repeat(arr,3, axis=0)\n",
        "print(r1)"
      ],
      "metadata": {
        "colab": {
          "base_uri": "https://localhost:8080/"
        },
        "id": "n04vuxw7-lK-",
        "outputId": "e4f895a4-f413-4dcb-8582-f2fbc8da288a"
      },
      "execution_count": 169,
      "outputs": [
        {
          "output_type": "stream",
          "name": "stdout",
          "text": [
            "[[1 2 3]\n",
            " [1 2 3]\n",
            " [1 2 3]]\n"
          ]
        }
      ]
    },
    {
      "cell_type": "markdown",
      "source": [
        "### ※ 여기서 잠깐, axis의 의미를 알고 넘어가자"
      ],
      "metadata": {
        "id": "DuyjptWVblla"
      }
    },
    {
      "cell_type": "markdown",
      "source": [
        "![image.png](data:image/png;base64,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)"
      ],
      "metadata": {
        "id": "R_fX4VY5brF7"
      }
    },
    {
      "cell_type": "code",
      "source": [
        "v = np.array([[[0,1,2,3],[4,5,6,7]],[[8,9,10,11],[12,13,14,15]],[[16,17,18,19],\n",
        "                                                                 [20,21,22,23]],[[24,25,26,27],[28,29,30,31]]])\n",
        "\n",
        "print(v)"
      ],
      "metadata": {
        "colab": {
          "base_uri": "https://localhost:8080/"
        },
        "id": "Ya7Q8uOmTp56",
        "outputId": "4d397a6d-eb83-4a42-cb22-9d3c5c84127f"
      },
      "execution_count": 170,
      "outputs": [
        {
          "output_type": "stream",
          "name": "stdout",
          "text": [
            "[[[ 0  1  2  3]\n",
            "  [ 4  5  6  7]]\n",
            "\n",
            " [[ 8  9 10 11]\n",
            "  [12 13 14 15]]\n",
            "\n",
            " [[16 17 18 19]\n",
            "  [20 21 22 23]]\n",
            "\n",
            " [[24 25 26 27]\n",
            "  [28 29 30 31]]]\n"
          ]
        }
      ]
    },
    {
      "cell_type": "markdown",
      "source": [
        "![image.png](data:image/png;base64,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)"
      ],
      "metadata": {
        "id": "VzLX-mEedUMS"
      }
    },
    {
      "cell_type": "markdown",
      "source": [
        "![image.png](data:image/png;base64,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)"
      ],
      "metadata": {
        "id": "3Ki2urltda2E"
      }
    },
    {
      "cell_type": "markdown",
      "source": [
        "### 다시 넘어와서"
      ],
      "metadata": {
        "id": "BqrzZhZRduFK"
      }
    },
    {
      "cell_type": "code",
      "source": [
        "# 배열 위에 덮어쓰기\n",
        "\n",
        "output = np.ones((5,5))\n",
        "print(output)\n",
        "\n",
        "z = np.zeros((3,3))\n",
        "z[1,1] = 9\n",
        "print(z)\n",
        "\n",
        "output[1:-1,1:-1] = z\n",
        "print(output)"
      ],
      "metadata": {
        "colab": {
          "base_uri": "https://localhost:8080/"
        },
        "id": "h37_zb-scDnr",
        "outputId": "f20fbb6f-ef63-47d6-e0a0-c70b487101e3"
      },
      "execution_count": 171,
      "outputs": [
        {
          "output_type": "stream",
          "name": "stdout",
          "text": [
            "[[1. 1. 1. 1. 1.]\n",
            " [1. 1. 1. 1. 1.]\n",
            " [1. 1. 1. 1. 1.]\n",
            " [1. 1. 1. 1. 1.]\n",
            " [1. 1. 1. 1. 1.]]\n",
            "[[0. 0. 0.]\n",
            " [0. 9. 0.]\n",
            " [0. 0. 0.]]\n",
            "[[1. 1. 1. 1. 1.]\n",
            " [1. 0. 0. 0. 1.]\n",
            " [1. 0. 9. 0. 1.]\n",
            " [1. 0. 0. 0. 1.]\n",
            " [1. 1. 1. 1. 1.]]\n"
          ]
        }
      ]
    },
    {
      "cell_type": "code",
      "source": [
        "# 배열 복사\n",
        "a = np.array([1,2,3])\n",
        "b = a.copy()\n",
        "b[0] = 100\n",
        "\n",
        "print(a)\n",
        "print(b)"
      ],
      "metadata": {
        "colab": {
          "base_uri": "https://localhost:8080/"
        },
        "id": "mwS7HE1_eSc_",
        "outputId": "862275f1-f315-4a9a-a464-c9d9dd288c8f"
      },
      "execution_count": 172,
      "outputs": [
        {
          "output_type": "stream",
          "name": "stdout",
          "text": [
            "[1 2 3]\n",
            "[100   2   3]\n"
          ]
        }
      ]
    },
    {
      "cell_type": "code",
      "source": [
        "# 여기서 의문 -> 그냥 b = a라고 하면 되는거 아닌가?\n",
        "a = np.array([1,2,3])\n",
        "# b = a.copy()\n",
        "b = a\n",
        "b[0] = 100\n",
        "\n",
        "print(b)\n",
        "print(a)"
      ],
      "metadata": {
        "colab": {
          "base_uri": "https://localhost:8080/"
        },
        "id": "c2Ox9D59gG8c",
        "outputId": "d4620cdc-4235-44d4-96b9-c8d702b9279b"
      },
      "execution_count": 173,
      "outputs": [
        {
          "output_type": "stream",
          "name": "stdout",
          "text": [
            "[100   2   3]\n",
            "[100   2   3]\n"
          ]
        }
      ]
    },
    {
      "cell_type": "markdown",
      "source": [
        "### 계산도 해보자"
      ],
      "metadata": {
        "id": "reOXVwRfgvh5"
      }
    },
    {
      "cell_type": "code",
      "source": [
        "a = np.array([1,2,3,4])\n",
        "print(a)"
      ],
      "metadata": {
        "colab": {
          "base_uri": "https://localhost:8080/"
        },
        "id": "wTpFS3jWgVrt",
        "outputId": "41ba3af6-fb62-4654-f64a-05f14d719662"
      },
      "execution_count": 174,
      "outputs": [
        {
          "output_type": "stream",
          "name": "stdout",
          "text": [
            "[1 2 3 4]\n"
          ]
        }
      ]
    },
    {
      "cell_type": "code",
      "source": [
        "a + 3"
      ],
      "metadata": {
        "colab": {
          "base_uri": "https://localhost:8080/"
        },
        "id": "AwI8IP_chFyA",
        "outputId": "e6bc3162-b05b-4f28-f782-2cbad8d52a1d"
      },
      "execution_count": 175,
      "outputs": [
        {
          "output_type": "execute_result",
          "data": {
            "text/plain": [
              "array([4, 5, 6, 7])"
            ]
          },
          "metadata": {},
          "execution_count": 175
        }
      ]
    },
    {
      "cell_type": "code",
      "source": [
        "a - 3"
      ],
      "metadata": {
        "colab": {
          "base_uri": "https://localhost:8080/"
        },
        "id": "sDyeAQRUhIVn",
        "outputId": "851f259a-d121-450e-d599-8e00cab9ded2"
      },
      "execution_count": 176,
      "outputs": [
        {
          "output_type": "execute_result",
          "data": {
            "text/plain": [
              "array([-2, -1,  0,  1])"
            ]
          },
          "metadata": {},
          "execution_count": 176
        }
      ]
    },
    {
      "cell_type": "code",
      "source": [
        "a * 2"
      ],
      "metadata": {
        "colab": {
          "base_uri": "https://localhost:8080/"
        },
        "id": "ErovMLwRhJo1",
        "outputId": "6764cfee-bb79-4187-fe34-eabb677f45ec"
      },
      "execution_count": 177,
      "outputs": [
        {
          "output_type": "execute_result",
          "data": {
            "text/plain": [
              "array([2, 4, 6, 8])"
            ]
          },
          "metadata": {},
          "execution_count": 177
        }
      ]
    },
    {
      "cell_type": "code",
      "source": [
        "a / 2"
      ],
      "metadata": {
        "colab": {
          "base_uri": "https://localhost:8080/"
        },
        "id": "tw06n4ZohLJf",
        "outputId": "2ec20663-aa77-4c48-818f-71c46a2048f0"
      },
      "execution_count": 178,
      "outputs": [
        {
          "output_type": "execute_result",
          "data": {
            "text/plain": [
              "array([0.5, 1. , 1.5, 2. ])"
            ]
          },
          "metadata": {},
          "execution_count": 178
        }
      ]
    },
    {
      "cell_type": "code",
      "source": [
        "# 연산하려는 행렬의 shape이 같아야겠죠?\n",
        "b = np.array([1,0,1,0])\n",
        "a + b"
      ],
      "metadata": {
        "colab": {
          "base_uri": "https://localhost:8080/"
        },
        "id": "uIvy5CpHhMYv",
        "outputId": "0d905aff-b13b-4f5c-b923-aacb5cc89db1"
      },
      "execution_count": 179,
      "outputs": [
        {
          "output_type": "execute_result",
          "data": {
            "text/plain": [
              "array([2, 2, 4, 4])"
            ]
          },
          "metadata": {},
          "execution_count": 179
        }
      ]
    },
    {
      "cell_type": "code",
      "source": [
        "# '** n' 은 n제곱\n",
        "a ** 2"
      ],
      "metadata": {
        "colab": {
          "base_uri": "https://localhost:8080/"
        },
        "id": "Zn2H3NrJhVEb",
        "outputId": "f534c089-d303-44b4-9193-0eb7307d60bb"
      },
      "execution_count": 180,
      "outputs": [
        {
          "output_type": "execute_result",
          "data": {
            "text/plain": [
              "array([ 1,  4,  9, 16])"
            ]
          },
          "metadata": {},
          "execution_count": 180
        }
      ]
    },
    {
      "cell_type": "markdown",
      "source": [
        "※ 다양한 Mathematical functions 참고는 여기서!<br>\n",
        "(https://numpy.org/doc/stable/reference/routines.math.html)"
      ],
      "metadata": {
        "id": "1DoCsSqzjdBs"
      }
    },
    {
      "cell_type": "markdown",
      "source": [
        "### 선형대수 맛보기"
      ],
      "metadata": {
        "id": "Smh0Kb_ujIRf"
      }
    },
    {
      "cell_type": "code",
      "source": [
        "# 행렬곱\n",
        "a = np.ones((2,3))\n",
        "print(a)\n",
        "\n",
        "b = np.full((3,2), 2)\n",
        "print(b)\n",
        "\n",
        "np.matmul(a,b)"
      ],
      "metadata": {
        "colab": {
          "base_uri": "https://localhost:8080/"
        },
        "id": "jyB53D8HiK28",
        "outputId": "62d151b5-82f7-47d4-aba2-b4b9f1df250e"
      },
      "execution_count": 181,
      "outputs": [
        {
          "output_type": "stream",
          "name": "stdout",
          "text": [
            "[[1. 1. 1.]\n",
            " [1. 1. 1.]]\n",
            "[[2 2]\n",
            " [2 2]\n",
            " [2 2]]\n"
          ]
        },
        {
          "output_type": "execute_result",
          "data": {
            "text/plain": [
              "array([[6., 6.],\n",
              "       [6., 6.]])"
            ]
          },
          "metadata": {},
          "execution_count": 181
        }
      ]
    },
    {
      "cell_type": "code",
      "source": [
        "# 행렬식 계산\n",
        "# 행렬식이 0이면 역행렬이 존재하지 않고, 행렬식이 0이 아니면 역행렬이 존재한다.\n",
        "\n",
        "c = np.identity(3)\n",
        "d = np.array([[1,2,3],[2,3,4],[3,2,1]])\n",
        "\n",
        "print(np.linalg.det(c))\n",
        "print(np.linalg.det(d))"
      ],
      "metadata": {
        "colab": {
          "base_uri": "https://localhost:8080/"
        },
        "id": "PUdAGB50jLTO",
        "outputId": "5e909d73-ccdd-45dd-e227-64076490092e"
      },
      "execution_count": 182,
      "outputs": [
        {
          "output_type": "stream",
          "name": "stdout",
          "text": [
            "1.0\n",
            "2.2204460492503135e-15\n"
          ]
        }
      ]
    },
    {
      "cell_type": "code",
      "source": [
        "# 역행렬 구하기\n",
        "d = np.array([[1,2,3],[2,3,4],[3,2,1]])\n",
        "print(d)\n",
        "\n",
        "d_inv = np.linalg.inv(d)\n",
        "print(d_inv)"
      ],
      "metadata": {
        "colab": {
          "base_uri": "https://localhost:8080/"
        },
        "id": "GU0t4a_ekuHq",
        "outputId": "5d2a770b-aa8f-448e-ef87-88ea77605fc2"
      },
      "execution_count": 183,
      "outputs": [
        {
          "output_type": "stream",
          "name": "stdout",
          "text": [
            "[[1 2 3]\n",
            " [2 3 4]\n",
            " [3 2 1]]\n",
            "[[-2.25179981e+15  1.80143985e+15 -4.50359963e+14]\n",
            " [ 4.50359963e+15 -3.60287970e+15  9.00719925e+14]\n",
            " [-2.25179981e+15  1.80143985e+15 -4.50359963e+14]]\n"
          ]
        }
      ]
    },
    {
      "cell_type": "code",
      "source": [
        "c = np.identity(3)\n",
        "c_inv = np.linalg.inv(c)\n",
        "print(c_inv)"
      ],
      "metadata": {
        "colab": {
          "base_uri": "https://localhost:8080/"
        },
        "id": "xRar77kDlLHH",
        "outputId": "b8729195-040c-46ee-e2fa-16a204299b7c"
      },
      "execution_count": 184,
      "outputs": [
        {
          "output_type": "stream",
          "name": "stdout",
          "text": [
            "[[1. 0. 0.]\n",
            " [0. 1. 0.]\n",
            " [0. 0. 1.]]\n"
          ]
        }
      ]
    },
    {
      "cell_type": "code",
      "source": [
        "# 역행렬이 존재하지 않는 행렬의 경우(ex. 0인 행이 존재하는 행렬)\n",
        "e = np.array([[0,0],[3,5]])\n",
        "print(e)\n",
        "print(np.linalg.det(e))\n",
        "print(np.linalg.inv(e))"
      ],
      "metadata": {
        "id": "HCByt6uCmzJU"
      },
      "execution_count": null,
      "outputs": []
    },
    {
      "cell_type": "markdown",
      "source": [
        "※ 다양한 선형대수 레퍼런스는 여기서!<br>\n",
        "(https://numpy.org/doc/stable/reference/routines.linalg.html)"
      ],
      "metadata": {
        "id": "lPKCKQyioC8_"
      }
    },
    {
      "cell_type": "markdown",
      "source": [
        "### Statistics"
      ],
      "metadata": {
        "id": "nxTcjgtgop20"
      }
    },
    {
      "cell_type": "code",
      "source": [
        "stats = np.array([[1,2,3],[4,5,6]])\n",
        "stats"
      ],
      "metadata": {
        "colab": {
          "base_uri": "https://localhost:8080/"
        },
        "id": "8Tr3YCh0njLo",
        "outputId": "e938d8ec-f67c-417a-ea7c-c0427f2b7453"
      },
      "execution_count": 186,
      "outputs": [
        {
          "output_type": "execute_result",
          "data": {
            "text/plain": [
              "array([[1, 2, 3],\n",
              "       [4, 5, 6]])"
            ]
          },
          "metadata": {},
          "execution_count": 186
        }
      ]
    },
    {
      "cell_type": "code",
      "source": [
        "# 최솟값 찾기\n",
        "np.min(stats)"
      ],
      "metadata": {
        "colab": {
          "base_uri": "https://localhost:8080/"
        },
        "id": "pU1z9h77o1fr",
        "outputId": "c3b996b2-1f92-440c-fbe7-bc161e965875"
      },
      "execution_count": 187,
      "outputs": [
        {
          "output_type": "execute_result",
          "data": {
            "text/plain": [
              "1"
            ]
          },
          "metadata": {},
          "execution_count": 187
        }
      ]
    },
    {
      "cell_type": "code",
      "source": [
        "# 최댓값 찾기\n",
        "np.max(stats, axis=1)"
      ],
      "metadata": {
        "colab": {
          "base_uri": "https://localhost:8080/"
        },
        "id": "ePYHN9Tto2mx",
        "outputId": "42546618-7dbf-4c30-dc7a-a202ec7389d7"
      },
      "execution_count": 188,
      "outputs": [
        {
          "output_type": "execute_result",
          "data": {
            "text/plain": [
              "array([3, 6])"
            ]
          },
          "metadata": {},
          "execution_count": 188
        }
      ]
    },
    {
      "cell_type": "code",
      "source": [
        "# 합 구하기\n",
        "np.sum(stats, axis=0)"
      ],
      "metadata": {
        "colab": {
          "base_uri": "https://localhost:8080/"
        },
        "id": "jICYKZ-Ko6SB",
        "outputId": "c7376bcb-8f2e-44e6-8a0d-be6a5fa71adf"
      },
      "execution_count": 189,
      "outputs": [
        {
          "output_type": "execute_result",
          "data": {
            "text/plain": [
              "array([5, 7, 9])"
            ]
          },
          "metadata": {},
          "execution_count": 189
        }
      ]
    },
    {
      "cell_type": "markdown",
      "source": [
        "### 배열 구조 건드리기"
      ],
      "metadata": {
        "id": "Dx3CcjyvphYY"
      }
    },
    {
      "cell_type": "code",
      "source": [
        "# 배열 shape 바꾸기\n",
        "# element 갯수 잘 확인하고 설정\n",
        "before = np.array([[1,2,3,4],[5,6,7,8]])\n",
        "print(before)\n",
        "\n",
        "after = before.reshape((4,2))\n",
        "print(after)"
      ],
      "metadata": {
        "colab": {
          "base_uri": "https://localhost:8080/"
        },
        "id": "Xe27MeQKpMXr",
        "outputId": "385d13c6-a85b-4e4b-844e-34bef9ab6433"
      },
      "execution_count": 190,
      "outputs": [
        {
          "output_type": "stream",
          "name": "stdout",
          "text": [
            "[[1 2 3 4]\n",
            " [5 6 7 8]]\n",
            "[[1 2]\n",
            " [3 4]\n",
            " [5 6]\n",
            " [7 8]]\n"
          ]
        }
      ]
    },
    {
      "cell_type": "code",
      "source": [
        "# Vertically stacking vectors(수직으로 스택)\n",
        "v1 = np.array([1,2,3,4])\n",
        "v2 = np.array([5,6,7,8])\n",
        "\n",
        "np.vstack([v1,v2,v1,v2])"
      ],
      "metadata": {
        "colab": {
          "base_uri": "https://localhost:8080/"
        },
        "id": "TM1CKIGSp0mp",
        "outputId": "07a0bd64-65a9-4971-a4fe-af94df07acc5"
      },
      "execution_count": 191,
      "outputs": [
        {
          "output_type": "execute_result",
          "data": {
            "text/plain": [
              "array([[1, 2, 3, 4],\n",
              "       [5, 6, 7, 8],\n",
              "       [1, 2, 3, 4],\n",
              "       [5, 6, 7, 8]])"
            ]
          },
          "metadata": {},
          "execution_count": 191
        }
      ]
    },
    {
      "cell_type": "code",
      "source": [
        "# Horizontal stack(수평으로 스택)\n",
        "h1 = np.ones((2,4))\n",
        "h2 = np.zeros((2,2))\n",
        "\n",
        "np.hstack((h1,h2))"
      ],
      "metadata": {
        "colab": {
          "base_uri": "https://localhost:8080/"
        },
        "id": "vH10vTASqNkN",
        "outputId": "4f9babcf-617d-4736-d4e4-3539d87105f0"
      },
      "execution_count": 192,
      "outputs": [
        {
          "output_type": "execute_result",
          "data": {
            "text/plain": [
              "array([[1., 1., 1., 1., 0., 0.],\n",
              "       [1., 1., 1., 1., 0., 0.]])"
            ]
          },
          "metadata": {},
          "execution_count": 192
        }
      ]
    },
    {
      "cell_type": "markdown",
      "source": [
        "### txt 파일 열어서 읽기"
      ],
      "metadata": {
        "id": "Z6miALfmqogL"
      }
    },
    {
      "cell_type": "code",
      "source": [
        "filedata = np.genfromtxt('test1.txt', delimiter=',')\n",
        "filedata = filedata.astype('int32')\n",
        "print(filedata)"
      ],
      "metadata": {
        "colab": {
          "base_uri": "https://localhost:8080/"
        },
        "id": "xg7Kq2qCqUxV",
        "outputId": "a41f820f-2e2b-45e4-c673-a01172da4887"
      },
      "execution_count": 193,
      "outputs": [
        {
          "output_type": "stream",
          "name": "stdout",
          "text": [
            "[[ 1  2  3  4  5  6  7  8]\n",
            " [ 9 10 11 12 13 14 15 16]]\n"
          ]
        }
      ]
    },
    {
      "cell_type": "code",
      "source": [
        "# 긍정 찾기\n",
        "((filedata > 10) & (filedata < 15))"
      ],
      "metadata": {
        "colab": {
          "base_uri": "https://localhost:8080/"
        },
        "id": "7Tpc-akyrIb5",
        "outputId": "230116cd-e203-462c-8677-325c18ec5512"
      },
      "execution_count": 194,
      "outputs": [
        {
          "output_type": "execute_result",
          "data": {
            "text/plain": [
              "array([[False, False, False, False, False, False, False, False],\n",
              "       [False, False,  True,  True,  True,  True, False, False]])"
            ]
          },
          "metadata": {},
          "execution_count": 194
        }
      ]
    },
    {
      "cell_type": "code",
      "source": [
        "# 부정 찾기\n",
        "~((filedata > 10) & (filedata < 15))"
      ],
      "metadata": {
        "colab": {
          "base_uri": "https://localhost:8080/"
        },
        "id": "wIQKWpcCrhrh",
        "outputId": "eda1f63d-a81f-4cba-bc8b-ff384cd26120"
      },
      "execution_count": 195,
      "outputs": [
        {
          "output_type": "execute_result",
          "data": {
            "text/plain": [
              "array([[ True,  True,  True,  True,  True,  True,  True,  True],\n",
              "       [ True,  True, False, False, False, False,  True,  True]])"
            ]
          },
          "metadata": {},
          "execution_count": 195
        }
      ]
    }
  ]
}